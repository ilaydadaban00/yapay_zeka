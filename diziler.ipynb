{
 "cells": [
  {
   "cell_type": "code",
   "execution_count": 1,
   "id": "58e75d1c-024f-4f58-82fd-467184303d0c",
   "metadata": {
    "jupyter": {
     "source_hidden": true
    }
   },
   "outputs": [],
   "source": [
    "\n",
    "import numpy as np #adı değştirir"
   ]
  },
  {
   "cell_type": "code",
   "execution_count": 9,
   "id": "dd981470-11b3-4d4f-a6a4-b28628635513",
   "metadata": {
    "collapsed": true,
    "jupyter": {
     "outputs_hidden": true,
     "source_hidden": true
    },
    "scrolled": true
   },
   "outputs": [
    {
     "data": {
      "text/plain": [
       "array([1, 2, 3])"
      ]
     },
     "execution_count": 9,
     "metadata": {},
     "output_type": "execute_result"
    }
   ],
   "source": [
    "np.array([1,2,3]) #yeni liste oluşturur\n"
   ]
  },
  {
   "cell_type": "code",
   "execution_count": 4,
   "id": "154b465c-5dfd-40e9-bb4b-25450ad18b8e",
   "metadata": {},
   "outputs": [
    {
     "data": {
      "text/plain": [
       "array([3, 4, 5, 6])"
      ]
     },
     "execution_count": 4,
     "metadata": {},
     "output_type": "execute_result"
    }
   ],
   "source": [
    "dizi=np.array([3,4,5,6]) #yeni listeyi diziye aktarıyor\n",
    "dizi"
   ]
  },
  {
   "cell_type": "code",
   "execution_count": 11,
   "id": "d343bfa9-51e7-4590-83a3-f989da827672",
   "metadata": {},
   "outputs": [
    {
     "data": {
      "text/plain": [
       "array([3, 4, 5, 6, 7])"
      ]
     },
     "execution_count": 11,
     "metadata": {},
     "output_type": "execute_result"
    }
   ],
   "source": [
    "np.array([3,4,5,6,7])"
   ]
  },
  {
   "cell_type": "code",
   "execution_count": 12,
   "id": "60267d4f-5f95-4a0a-a6dd-b21b4c2248b1",
   "metadata": {},
   "outputs": [
    {
     "data": {
      "text/plain": [
       "array([1, 2, 3, 3])"
      ]
     },
     "execution_count": 12,
     "metadata": {},
     "output_type": "execute_result"
    }
   ],
   "source": [
    "dizi=np.array([1,2,3,3.14],dtype=int)#dtype ile hangi değişken olduğunu öğreniriz\n",
    "dizi\n"
   ]
  },
  {
   "cell_type": "code",
   "execution_count": 13,
   "id": "e4be0895-ddbe-4162-819b-8509542ae4bf",
   "metadata": {},
   "outputs": [
    {
     "data": {
      "text/plain": [
       "array([1, 2, 3])"
      ]
     },
     "execution_count": 13,
     "metadata": {},
     "output_type": "execute_result"
    }
   ],
   "source": [
    "birboyut=np.array([1,2,3]) \n",
    "birboyut"
   ]
  },
  {
   "cell_type": "code",
   "execution_count": 14,
   "id": "4a8c4b3d-58c1-457e-bb7a-ccd26e8491bd",
   "metadata": {},
   "outputs": [
    {
     "data": {
      "text/plain": [
       "array([[1, 2, 3],\n",
       "       [4, 5, 6]])"
      ]
     },
     "execution_count": 14,
     "metadata": {},
     "output_type": "execute_result"
    }
   ],
   "source": [
    "ikiboyut = np.array([[1,2,3], [4,5,6]])# iki boyut yapar\n",
    "ikiboyut"
   ]
  },
  {
   "cell_type": "code",
   "execution_count": 15,
   "id": "fb15d2b0-b3fc-462a-a235-7456bb71adc5",
   "metadata": {},
   "outputs": [
    {
     "data": {
      "text/plain": [
       "array([[[1, 2, 3],\n",
       "        [4, 5, 6]],\n",
       "\n",
       "       [[1, 2, 3],\n",
       "        [4, 5, 6]]])"
      ]
     },
     "execution_count": 15,
     "metadata": {},
     "output_type": "execute_result"
    }
   ],
   "source": [
    "ucboyut= np.array([[[1,2,3], [4,5,6]], [[1,2,3], [4,5,6]]])# üç boyutyapılır\n",
    "ucboyut"
   ]
  },
  {
   "cell_type": "code",
   "execution_count": 16,
   "id": "d75ef265-6fc4-493f-aa07-e089bb48a6b1",
   "metadata": {},
   "outputs": [
    {
     "data": {
      "text/plain": [
       "array([0., 0., 0., 0., 0.])"
      ]
     },
     "execution_count": 16,
     "metadata": {},
     "output_type": "execute_result"
    }
   ],
   "source": [
    "np.zeros(5)# parantezin içindeki kadar 0 koyulur"
   ]
  },
  {
   "cell_type": "code",
   "execution_count": 17,
   "id": "04bc9cd8-2ff0-4487-a4a1-b05a5a1b7728",
   "metadata": {},
   "outputs": [
    {
     "data": {
      "text/plain": [
       "array([[0., 0., 0.],\n",
       "       [0., 0., 0.],\n",
       "       [0., 0., 0.],\n",
       "       [0., 0., 0.]])"
      ]
     },
     "execution_count": 17,
     "metadata": {},
     "output_type": "execute_result"
    }
   ],
   "source": [
    "np.zeros((4,3))#4 satır her satıra3 tane sıfır"
   ]
  },
  {
   "cell_type": "code",
   "execution_count": 18,
   "id": "fcdfbc49-a438-4a69-a8bf-ec997053af79",
   "metadata": {},
   "outputs": [
    {
     "data": {
      "text/plain": [
       "array([[0, 0, 0],\n",
       "       [0, 0, 0],\n",
       "       [0, 0, 0],\n",
       "       [0, 0, 0]])"
      ]
     },
     "execution_count": 18,
     "metadata": {},
     "output_type": "execute_result"
    }
   ],
   "source": [
    "np.zeros((4,3),dtype=int)"
   ]
  },
  {
   "cell_type": "code",
   "execution_count": 19,
   "id": "34cf9fba-7c19-4590-8ab9-8ee6423dd11f",
   "metadata": {
    "jupyter": {
     "source_hidden": true
    }
   },
   "outputs": [
    {
     "data": {
      "text/plain": [
       "array([1., 1., 1., 1., 1.])"
      ]
     },
     "execution_count": 19,
     "metadata": {},
     "output_type": "execute_result"
    }
   ],
   "source": [
    "np.ones(5)# parantezin içindeki say kadar 1 yazar"
   ]
  },
  {
   "cell_type": "code",
   "execution_count": null,
   "id": "74039020-3984-4024-8f51-92e5dd395a2c",
   "metadata": {},
   "outputs": [],
   "source": []
  }
 ],
 "metadata": {
  "kernelspec": {
   "display_name": "Python 3 (ipykernel)",
   "language": "python",
   "name": "python3"
  },
  "language_info": {
   "codemirror_mode": {
    "name": "ipython",
    "version": 3
   },
   "file_extension": ".py",
   "mimetype": "text/x-python",
   "name": "python",
   "nbconvert_exporter": "python",
   "pygments_lexer": "ipython3",
   "version": "3.11.7"
  }
 },
 "nbformat": 4,
 "nbformat_minor": 5
}
