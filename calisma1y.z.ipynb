{
 "cells": [
  {
   "cell_type": "code",
   "execution_count": 23,
   "id": "c3eef868-6ce4-4faf-b4d9-8317ce413143",
   "metadata": {},
   "outputs": [],
   "source": [
    "import numpy as np"
   ]
  },
  {
   "cell_type": "code",
   "execution_count": 4,
   "id": "67a4ed3e-d1d6-4f2e-b26c-e707e35782d4",
   "metadata": {},
   "outputs": [
    {
     "data": {
      "text/plain": [
       "array([[5, 5, 5],\n",
       "       [5, 5, 5],\n",
       "       [5, 5, 5],\n",
       "       [5, 5, 5]])"
      ]
     },
     "execution_count": 4,
     "metadata": {},
     "output_type": "execute_result"
    }
   ],
   "source": [
    "dizi=np.full((4,3),5)# 4 tane satır 3 sutun her birinde 5 olacak\n",
    "dizi"
   ]
  },
  {
   "cell_type": "code",
   "execution_count": 5,
   "id": "0f1e025e-1917-4228-aa6e-be840989731e",
   "metadata": {},
   "outputs": [
    {
     "data": {
      "text/plain": [
       "array([1, 2, 3])"
      ]
     },
     "execution_count": 5,
     "metadata": {},
     "output_type": "execute_result"
    }
   ],
   "source": [
    "np.array([1,2,3])"
   ]
  },
  {
   "cell_type": "code",
   "execution_count": 7,
   "id": "cd5bfd94-d80c-4e17-9925-95798085b7d3",
   "metadata": {},
   "outputs": [],
   "source": [
    "dizi=np.array([\"elma\",\"erik\",\"armut\"])# string olarak gosterir\n"
   ]
  },
  {
   "cell_type": "code",
   "execution_count": 8,
   "id": "944d7873-c95d-4c40-8c88-af91d12f8a76",
   "metadata": {
    "jupyter": {
     "source_hidden": true
    }
   },
   "outputs": [
    {
     "data": {
      "text/plain": [
       "array(['elma', 'erik', 'armut'], dtype='<U5')"
      ]
     },
     "execution_count": 8,
     "metadata": {},
     "output_type": "execute_result"
    }
   ],
   "source": [
    "dizi"
   ]
  },
  {
   "cell_type": "code",
   "execution_count": 20,
   "id": "46acdce5-05df-41ea-a063-857f87806865",
   "metadata": {},
   "outputs": [
    {
     "data": {
      "text/plain": [
       "array([1, 2, 3, 4])"
      ]
     },
     "execution_count": 20,
     "metadata": {},
     "output_type": "execute_result"
    }
   ],
   "source": [
    "dizi=np.array([1,2,3,4])\n"
   ]
  },
  {
   "cell_type": "code",
   "execution_count": null,
   "id": "a46625c5-a759-4eb7-b90a-5d85aa493ccb",
   "metadata": {},
   "outputs": [],
   "source": [
    "dizi=np.array([1,2,3.14])# tek boyutlu dizi"
   ]
  },
  {
   "cell_type": "code",
   "execution_count": 21,
   "id": "05462b38-dfca-4824-8f8d-32eec08482b5",
   "metadata": {},
   "outputs": [
    {
     "data": {
      "text/plain": [
       "dtype('int32')"
      ]
     },
     "execution_count": 21,
     "metadata": {},
     "output_type": "execute_result"
    }
   ],
   "source": [
    "dizi.dtype"
   ]
  },
  {
   "cell_type": "code",
   "execution_count": 28,
   "id": "f7973809-f6f1-4a3f-a0cc-42e349acc97f",
   "metadata": {},
   "outputs": [
    {
     "data": {
      "text/plain": [
       "array([1, 2, 3, 4])"
      ]
     },
     "execution_count": 28,
     "metadata": {},
     "output_type": "execute_result"
    }
   ],
   "source": [
    "dizi=np.array([1,2,3,4.23],dtype=int)\n",
    "dizi #tek boyutlu dizi turu int"
   ]
  },
  {
   "cell_type": "code",
   "execution_count": 27,
   "id": "bce9c2aa-9c76-4afc-98ae-d8016870edc1",
   "metadata": {},
   "outputs": [],
   "source": [
    "birboyut=np.array([1,2,3,4]) # tek oyutlu dizi\n",
    "\n",
    "#iki boyutlu dizi\n",
    "ikiboyut=np.array([[1,2,3,4],[5,6,7,8],[9,10,11,12]])"
   ]
  },
  {
   "cell_type": "code",
   "execution_count": 29,
   "id": "8d2daa14-cd38-46fe-a424-11ac180805b4",
   "metadata": {},
   "outputs": [
    {
     "data": {
      "text/plain": [
       "array([1, 2, 3, 4])"
      ]
     },
     "execution_count": 29,
     "metadata": {},
     "output_type": "execute_result"
    }
   ],
   "source": [
    "birboyut"
   ]
  },
  {
   "cell_type": "code",
   "execution_count": 30,
   "id": "6c921195-6565-419b-bde3-56e4e201bec4",
   "metadata": {},
   "outputs": [
    {
     "data": {
      "text/plain": [
       "array([[ 1,  2,  3,  4],\n",
       "       [ 5,  6,  7,  8],\n",
       "       [ 9, 10, 11, 12]])"
      ]
     },
     "execution_count": 30,
     "metadata": {},
     "output_type": "execute_result"
    }
   ],
   "source": [
    "ikiboyut"
   ]
  },
  {
   "cell_type": "code",
   "execution_count": 31,
   "id": "b4c72f6f-e44e-4d05-b3d5-bb4dc2e52427",
   "metadata": {},
   "outputs": [
    {
     "data": {
      "text/plain": [
       "array([0., 0., 0., 0., 0., 0., 0.])"
      ]
     },
     "execution_count": 31,
     "metadata": {},
     "output_type": "execute_result"
    }
   ],
   "source": [
    "np.zeros(7)# 7 sıfırdan oluşan tek boyutlu dizi"
   ]
  },
  {
   "cell_type": "code",
   "execution_count": 32,
   "id": "25a9c59d-6309-4f6f-aa6c-e4c7abefcc74",
   "metadata": {},
   "outputs": [
    {
     "data": {
      "text/plain": [
       "array([[0, 0, 0],\n",
       "       [0, 0, 0]])"
      ]
     },
     "execution_count": 32,
     "metadata": {},
     "output_type": "execute_result"
    }
   ],
   "source": [
    "np.zeros((2,3),dtype=int)#*sıfırdan oluşan 2 boyutlu int dizi oluşturur"
   ]
  },
  {
   "cell_type": "code",
   "execution_count": 33,
   "id": "d57cc93c-8703-40e4-91bc-e10d265e8104",
   "metadata": {},
   "outputs": [
    {
     "data": {
      "text/plain": [
       "array([1., 1., 1.])"
      ]
     },
     "execution_count": 33,
     "metadata": {},
     "output_type": "execute_result"
    }
   ],
   "source": [
    "np.ones(3)"
   ]
  },
  {
   "cell_type": "code",
   "execution_count": 34,
   "id": "771262c6-8f32-44e5-a405-87efd6482582",
   "metadata": {},
   "outputs": [
    {
     "data": {
      "text/plain": [
       "array([[5, 5, 5],\n",
       "       [5, 5, 5],\n",
       "       [5, 5, 5],\n",
       "       [5, 5, 5]])"
      ]
     },
     "execution_count": 34,
     "metadata": {},
     "output_type": "execute_result"
    }
   ],
   "source": [
    "np.full((4,3),5)# 5 sayısından oluşan 2*3 lük dizi"
   ]
  },
  {
   "cell_type": "code",
   "execution_count": 36,
   "id": "6005a66e-1c5d-47c1-961d-451c285b23b0",
   "metadata": {},
   "outputs": [
    {
     "data": {
      "text/plain": [
       "array([ 2,  7, 12, 17])"
      ]
     },
     "execution_count": 36,
     "metadata": {},
     "output_type": "execute_result"
    }
   ],
   "source": [
    "# başlangıç ve bitiş değerine gore dizi oluşturur"
   ]
  },
  {
   "cell_type": "code",
   "execution_count": 41,
   "id": "349f89cf-956d-404a-8227-6179bcb8d23b",
   "metadata": {},
   "outputs": [
    {
     "data": {
      "text/plain": [
       "array([ 2.        ,  2.88888889,  3.77777778,  4.66666667,  5.55555556,\n",
       "        6.44444444,  7.33333333,  8.22222222,  9.11111111, 10.        ])"
      ]
     },
     "execution_count": 41,
     "metadata": {},
     "output_type": "execute_result"
    }
   ],
   "source": [
    "np.linspace(2,10,num=10)# başlangıç ve bitiş değeri arasında belirtilir"
   ]
  },
  {
   "cell_type": "code",
   "execution_count": 42,
   "id": "f65b5220-51a6-4ddb-903a-2830333c93a1",
   "metadata": {},
   "outputs": [
    {
     "data": {
      "text/plain": [
       "array([1, 4, 6, 8, 5])"
      ]
     },
     "execution_count": 42,
     "metadata": {},
     "output_type": "execute_result"
    }
   ],
   "source": [
    "np.random.randint(0,10,5) # 0-10 aralığında rastgele 5 sayıda oluşan bir boyuıt dizi"
   ]
  },
  {
   "cell_type": "code",
   "execution_count": 44,
   "id": "0a519647-0f6c-4b39-800d-19b8042faeef",
   "metadata": {},
   "outputs": [
    {
     "data": {
      "text/plain": [
       "array([[4, 4],\n",
       "       [4, 4],\n",
       "       [2, 8],\n",
       "       [4, 8],\n",
       "       [6, 3]])"
      ]
     },
     "execution_count": 44,
     "metadata": {},
     "output_type": "execute_result"
    }
   ],
   "source": [
    "np.random.randint(0,10,(5,2))# 0-10 aralığında 5*2 rastgele sayıdan oluşan 2 boyutlu dizi "
   ]
  },
  {
   "cell_type": "code",
   "execution_count": 46,
   "id": "362952b0-76bd-4b14-be23-28c7e43fef7a",
   "metadata": {},
   "outputs": [
    {
     "data": {
      "text/plain": [
       "(3, 4)"
      ]
     },
     "execution_count": 46,
     "metadata": {},
     "output_type": "execute_result"
    }
   ],
   "source": [
    "dizi=np.array([[1,2,3,4],[5,6,7,8],[9,10,11,12]])\n",
    "dizi.shape  #dizideki eleman sayısını ogrenmek için "
   ]
  },
  {
   "cell_type": "code",
   "execution_count": 47,
   "id": "943d6c92-374d-4875-aecc-b663506dd95d",
   "metadata": {},
   "outputs": [
    {
     "data": {
      "text/plain": [
       "2"
      ]
     },
     "execution_count": 47,
     "metadata": {},
     "output_type": "execute_result"
    }
   ],
   "source": [
    "dizi.ndim #dizi boyutu"
   ]
  },
  {
   "cell_type": "code",
   "execution_count": 48,
   "id": "d130c332-7580-4247-af41-57c77cff900e",
   "metadata": {},
   "outputs": [
    {
     "data": {
      "text/plain": [
       "12"
      ]
     },
     "execution_count": 48,
     "metadata": {},
     "output_type": "execute_result"
    }
   ],
   "source": [
    "dizi.size #size dizideki toplam eleman sayısını gosteerir"
   ]
  },
  {
   "cell_type": "code",
   "execution_count": 49,
   "id": "084919de-df14-419a-b724-3c9fcfa4c9fb",
   "metadata": {},
   "outputs": [
    {
     "data": {
      "text/plain": [
       "4"
      ]
     },
     "execution_count": 49,
     "metadata": {},
     "output_type": "execute_result"
    }
   ],
   "source": [
    "dizi.itemsize #dizideki her bir elemanın bayt cinsinden değer verir"
   ]
  },
  {
   "cell_type": "code",
   "execution_count": 54,
   "id": "1b2b384d-f208-460d-b100-42d2f1596392",
   "metadata": {},
   "outputs": [
    {
     "data": {
      "text/plain": [
       "array([[6, 0, 3, 1, 5, 9, 9],\n",
       "       [9, 0, 8, 6, 1, 8, 8],\n",
       "       [3, 8, 3, 8, 0, 1, 9],\n",
       "       [0, 4, 8, 0, 6, 3, 5],\n",
       "       [3, 2, 5, 7, 5, 6, 8]])"
      ]
     },
     "execution_count": 54,
     "metadata": {},
     "output_type": "execute_result"
    }
   ],
   "source": [
    "dizi=np.random.randint(0,10,(5,7))# 5 satır 7 sütun oluşsan rastgele sayılardan oluşan int türünde dizi\n",
    "dizi"
   ]
  },
  {
   "cell_type": "code",
   "execution_count": null,
   "id": "0f47995b-3fb8-41e9-918b-55bcc7bbee45",
   "metadata": {},
   "outputs": [],
   "source": []
  }
 ],
 "metadata": {
  "kernelspec": {
   "display_name": "Python 3 (ipykernel)",
   "language": "python",
   "name": "python3"
  },
  "language_info": {
   "codemirror_mode": {
    "name": "ipython",
    "version": 3
   },
   "file_extension": ".py",
   "mimetype": "text/x-python",
   "name": "python",
   "nbconvert_exporter": "python",
   "pygments_lexer": "ipython3",
   "version": "3.11.7"
  }
 },
 "nbformat": 4,
 "nbformat_minor": 5
}
